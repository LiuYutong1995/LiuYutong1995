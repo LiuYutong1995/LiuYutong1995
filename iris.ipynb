{
 "cells": [
  {
   "cell_type": "code",
   "execution_count": 1,
   "metadata": {},
   "outputs": [],
   "source": [
    "import pandas as pd\n",
    "import numpy as np\n",
    "import seaborn as sns"
   ]
  },
  {
   "cell_type": "code",
   "execution_count": 2,
   "metadata": {},
   "outputs": [],
   "source": [
    "df = pd.read_csv('iris',dtype = 'str')"
   ]
  },
  {
   "cell_type": "code",
   "execution_count": 3,
   "metadata": {},
   "outputs": [
    {
     "data": {
      "text/html": [
       "<div>\n",
       "<style scoped>\n",
       "    .dataframe tbody tr th:only-of-type {\n",
       "        vertical-align: middle;\n",
       "    }\n",
       "\n",
       "    .dataframe tbody tr th {\n",
       "        vertical-align: top;\n",
       "    }\n",
       "\n",
       "    .dataframe thead th {\n",
       "        text-align: right;\n",
       "    }\n",
       "</style>\n",
       "<table border=\"1\" class=\"dataframe\">\n",
       "  <thead>\n",
       "    <tr style=\"text-align: right;\">\n",
       "      <th></th>\n",
       "      <th>sepal_length</th>\n",
       "      <th>sepal_width</th>\n",
       "      <th>petal_length</th>\n",
       "      <th>petal_width</th>\n",
       "      <th>species</th>\n",
       "    </tr>\n",
       "  </thead>\n",
       "  <tbody>\n",
       "    <tr>\n",
       "      <th>0</th>\n",
       "      <td>5.1</td>\n",
       "      <td>3.5</td>\n",
       "      <td>1.4</td>\n",
       "      <td>0.2</td>\n",
       "      <td>setosa</td>\n",
       "    </tr>\n",
       "    <tr>\n",
       "      <th>1</th>\n",
       "      <td>4.9</td>\n",
       "      <td>3.0</td>\n",
       "      <td>1.4</td>\n",
       "      <td>0.2</td>\n",
       "      <td>setosa</td>\n",
       "    </tr>\n",
       "    <tr>\n",
       "      <th>2</th>\n",
       "      <td>4.7</td>\n",
       "      <td>3.2</td>\n",
       "      <td>1.3</td>\n",
       "      <td>0.2</td>\n",
       "      <td>setosa</td>\n",
       "    </tr>\n",
       "  </tbody>\n",
       "</table>\n",
       "</div>"
      ],
      "text/plain": [
       "  sepal_length sepal_width petal_length petal_width species\n",
       "0          5.1         3.5          1.4         0.2  setosa\n",
       "1          4.9         3.0          1.4         0.2  setosa\n",
       "2          4.7         3.2          1.3         0.2  setosa"
      ]
     },
     "execution_count": 3,
     "metadata": {},
     "output_type": "execute_result"
    }
   ],
   "source": [
    "df.head(3)"
   ]
  },
  {
   "cell_type": "code",
   "execution_count": 4,
   "metadata": {},
   "outputs": [],
   "source": [
    "from sklearn.model_selection import train_test_split"
   ]
  },
  {
   "cell_type": "code",
   "execution_count": 5,
   "metadata": {},
   "outputs": [],
   "source": [
    "X = df[['sepal_length','sepal_width','petal_length','petal_width']].values"
   ]
  },
  {
   "cell_type": "code",
   "execution_count": 6,
   "metadata": {},
   "outputs": [],
   "source": [
    "y = df['species'].values"
   ]
  },
  {
   "cell_type": "code",
   "execution_count": 7,
   "metadata": {},
   "outputs": [],
   "source": [
    "species = {}\n",
    "count = 0\n",
    "for str in y:\n",
    "    if str not in species:\n",
    "        species[str]= count\n",
    "        count +=1"
   ]
  },
  {
   "cell_type": "code",
   "execution_count": 8,
   "metadata": {},
   "outputs": [
    {
     "data": {
      "text/plain": [
       "{'setosa': 0, 'versicolor': 1, 'virginica': 2}"
      ]
     },
     "execution_count": 8,
     "metadata": {},
     "output_type": "execute_result"
    }
   ],
   "source": [
    "species"
   ]
  },
  {
   "cell_type": "code",
   "execution_count": 9,
   "metadata": {},
   "outputs": [
    {
     "name": "stdout",
     "output_type": "stream",
     "text": [
      "setosa\n",
      "versicolor\n",
      "virginica\n"
     ]
    }
   ],
   "source": [
    "for specie in species.keys():\n",
    "    print(specie)"
   ]
  },
  {
   "cell_type": "code",
   "execution_count": 10,
   "metadata": {},
   "outputs": [],
   "source": [
    "for key, value in species.items():\n",
    "    for i in range(len(y)):\n",
    "        if y[i] == key:\n",
    "            y[i] = value"
   ]
  },
  {
   "cell_type": "code",
   "execution_count": 11,
   "metadata": {},
   "outputs": [
    {
     "data": {
      "text/plain": [
       "array([0, 0, 0, 0, 0, 0, 0, 0, 0, 0, 0, 0, 0, 0, 0, 0, 0, 0, 0, 0, 0, 0,\n",
       "       0, 0, 0, 0, 0, 0, 0, 0, 0, 0, 0, 0, 0, 0, 0, 0, 0, 0, 0, 0, 0, 0,\n",
       "       0, 0, 0, 0, 0, 0, 1, 1, 1, 1, 1, 1, 1, 1, 1, 1, 1, 1, 1, 1, 1, 1,\n",
       "       1, 1, 1, 1, 1, 1, 1, 1, 1, 1, 1, 1, 1, 1, 1, 1, 1, 1, 1, 1, 1, 1,\n",
       "       1, 1, 1, 1, 1, 1, 1, 1, 1, 1, 1, 1, 2, 2, 2, 2, 2, 2, 2, 2, 2, 2,\n",
       "       2, 2, 2, 2, 2, 2, 2, 2, 2, 2, 2, 2, 2, 2, 2, 2, 2, 2, 2, 2, 2, 2,\n",
       "       2, 2, 2, 2, 2, 2, 2, 2, 2, 2, 2, 2, 2, 2, 2, 2, 2, 2], dtype=object)"
      ]
     },
     "execution_count": 11,
     "metadata": {},
     "output_type": "execute_result"
    }
   ],
   "source": [
    "y"
   ]
  },
  {
   "cell_type": "code",
   "execution_count": 12,
   "metadata": {},
   "outputs": [],
   "source": [
    "X_train, X_test, y_train, y_test = train_test_split(X, y, test_size=0.3, random_state = 30)"
   ]
  },
  {
   "cell_type": "code",
   "execution_count": 13,
   "metadata": {},
   "outputs": [],
   "source": [
    "from tensorflow.keras.models import Sequential\n",
    "from tensorflow.keras.layers import Flatten"
   ]
  },
  {
   "cell_type": "code",
   "execution_count": 14,
   "metadata": {},
   "outputs": [],
   "source": [
    "from tensorflow.keras.layers import Dense"
   ]
  },
  {
   "cell_type": "code",
   "execution_count": 15,
   "metadata": {},
   "outputs": [
    {
     "name": "stdout",
     "output_type": "stream",
     "text": [
      "WARNING:tensorflow:From C:\\Users\\lenovo\\Anaconda3\\lib\\site-packages\\tensorflow\\python\\ops\\resource_variable_ops.py:435: colocate_with (from tensorflow.python.framework.ops) is deprecated and will be removed in a future version.\n",
      "Instructions for updating:\n",
      "Colocations handled automatically by placer.\n"
     ]
    }
   ],
   "source": [
    "model = Sequential()\n",
    "model.add(Dense(10, input_dim=4))\n",
    "model.add(Dense(20, activation = 'relu'))\n",
    "model.add(Dense(3, activation = 'softmax'))"
   ]
  },
  {
   "cell_type": "code",
   "execution_count": 16,
   "metadata": {},
   "outputs": [],
   "source": [
    "model.compile(optimizer = 'adam', loss = 'sparse_categorical_crossentropy', metrics = ['accuracy'])"
   ]
  },
  {
   "cell_type": "code",
   "execution_count": 17,
   "metadata": {},
   "outputs": [
    {
     "name": "stdout",
     "output_type": "stream",
     "text": [
      "Epoch 1/15\n",
      "105/105 [==============================] - 0s 2ms/sample - loss: 0.8484 - acc: 0.6952\n",
      "Epoch 2/15\n",
      "105/105 [==============================] - 0s 76us/sample - loss: 0.8095 - acc: 0.6857\n",
      "Epoch 3/15\n",
      "105/105 [==============================] - 0s 76us/sample - loss: 0.7731 - acc: 0.6857\n",
      "Epoch 4/15\n",
      "105/105 [==============================] - 0s 66us/sample - loss: 0.7351 - acc: 0.6952\n",
      "Epoch 5/15\n",
      "105/105 [==============================] - 0s 85us/sample - loss: 0.7021 - acc: 0.7429\n",
      "Epoch 6/15\n",
      "105/105 [==============================] - 0s 104us/sample - loss: 0.6705 - acc: 0.8000\n",
      "Epoch 7/15\n",
      "105/105 [==============================] - 0s 85us/sample - loss: 0.6424 - acc: 0.8762\n",
      "Epoch 8/15\n",
      "105/105 [==============================] - 0s 57us/sample - loss: 0.6174 - acc: 0.9143\n",
      "Epoch 9/15\n",
      "105/105 [==============================] - 0s 76us/sample - loss: 0.5936 - acc: 0.9429\n",
      "Epoch 10/15\n",
      "105/105 [==============================] - 0s 76us/sample - loss: 0.5727 - acc: 0.9524\n",
      "Epoch 11/15\n",
      "105/105 [==============================] - 0s 76us/sample - loss: 0.5532 - acc: 0.9619\n",
      "Epoch 12/15\n",
      "105/105 [==============================] - 0s 66us/sample - loss: 0.5349 - acc: 0.9524\n",
      "Epoch 13/15\n",
      "105/105 [==============================] - 0s 67us/sample - loss: 0.5181 - acc: 0.9333\n",
      "Epoch 14/15\n",
      "105/105 [==============================] - 0s 76us/sample - loss: 0.4985 - acc: 0.9619\n",
      "Epoch 15/15\n",
      "105/105 [==============================] - 0s 76us/sample - loss: 0.4755 - acc: 0.9810\n"
     ]
    },
    {
     "data": {
      "text/plain": [
       "<tensorflow.python.keras.callbacks.History at 0x21c844bce80>"
      ]
     },
     "execution_count": 17,
     "metadata": {},
     "output_type": "execute_result"
    }
   ],
   "source": [
    "model.fit(x = X_train, y = y_train,epochs = 15)"
   ]
  },
  {
   "cell_type": "code",
   "execution_count": 18,
   "metadata": {},
   "outputs": [],
   "source": [
    "lost_df = pd.DataFrame(model.history.history)"
   ]
  },
  {
   "cell_type": "code",
   "execution_count": 19,
   "metadata": {},
   "outputs": [
    {
     "data": {
      "text/plain": [
       "<matplotlib.axes._subplots.AxesSubplot at 0x21cff90c9b0>"
      ]
     },
     "execution_count": 19,
     "metadata": {},
     "output_type": "execute_result"
    },
    {
     "data": {
      "image/png": "[encoded data removed]",
      "text/plain": [
       "<Figure size 432x288 with 1 Axes>"
      ]
     },
     "metadata": {
      "needs_background": "light"
     },
     "output_type": "display_data"
    }
   ],
   "source": [
    "lost_df.plot()"
   ]
  },
  {
   "cell_type": "code",
   "execution_count": 20,
   "metadata": {},
   "outputs": [
    {
     "name": "stdout",
     "output_type": "stream",
     "text": [
      "45/45 [==============================] - 0s 1ms/sample - loss: 0.4870 - acc: 0.9556\n"
     ]
    }
   ],
   "source": [
    "lost_, acc_ = model.evaluate(X_test, y_test)"
   ]
  },
  {
   "cell_type": "code",
   "execution_count": 21,
   "metadata": {},
   "outputs": [
    {
     "data": {
      "text/plain": [
       "array([[0.7799234 , 0.18850464, 0.031572  ],\n",
       "       [0.79468894, 0.18070856, 0.02460248],\n",
       "       [0.7438276 , 0.21521756, 0.04095479],\n",
       "       [0.01344576, 0.3843346 , 0.60221964],\n",
       "       [0.09525523, 0.55037683, 0.35436794],\n",
       "       [0.08095276, 0.5338822 , 0.38516504],\n",
       "       [0.02076354, 0.42838556, 0.5508509 ],\n",
       "       [0.01435223, 0.37826195, 0.60738575],\n",
       "       [0.07762586, 0.5605404 , 0.36183372],\n",
       "       [0.0057685 , 0.38491333, 0.60931814],\n",
       "       [0.7451979 , 0.21188295, 0.04291918],\n",
       "       [0.01095739, 0.41001844, 0.5790242 ],\n",
       "       [0.12490441, 0.5243138 , 0.35078177],\n",
       "       [0.07486035, 0.55905014, 0.36608952],\n",
       "       [0.7322004 , 0.22057216, 0.04722741],\n",
       "       [0.07359554, 0.5657331 , 0.36067137],\n",
       "       [0.81111294, 0.17172608, 0.01716091],\n",
       "       [0.7624963 , 0.1960461 , 0.04145769],\n",
       "       [0.73050284, 0.23323856, 0.03625862],\n",
       "       [0.02149964, 0.451323  , 0.52717733],\n",
       "       [0.02315975, 0.48720455, 0.48963568],\n",
       "       [0.75409514, 0.20875727, 0.03714759],\n",
       "       [0.7921541 , 0.17976679, 0.02807922],\n",
       "       [0.7904802 , 0.17588127, 0.03363855],\n",
       "       [0.00361478, 0.33207002, 0.66431516],\n",
       "       [0.00707644, 0.32758784, 0.6653357 ],\n",
       "       [0.0364267 , 0.5087403 , 0.454833  ],\n",
       "       [0.01188575, 0.3977891 , 0.5903251 ],\n",
       "       [0.7690219 , 0.19514474, 0.03583337],\n",
       "       [0.03732383, 0.485141  , 0.47753525],\n",
       "       [0.01544345, 0.41957968, 0.5649769 ],\n",
       "       [0.09788205, 0.5408465 , 0.3612714 ],\n",
       "       [0.01195057, 0.39243042, 0.595619  ],\n",
       "       [0.02731078, 0.4723192 , 0.5003701 ],\n",
       "       [0.00126914, 0.22473592, 0.7739949 ],\n",
       "       [0.01886912, 0.40551946, 0.57561135],\n",
       "       [0.19632305, 0.4993968 , 0.30428016],\n",
       "       [0.01573818, 0.4546813 , 0.5295805 ],\n",
       "       [0.09341514, 0.5458964 , 0.3606885 ],\n",
       "       [0.01380053, 0.47671738, 0.5094821 ],\n",
       "       [0.00775714, 0.3646107 , 0.6276322 ],\n",
       "       [0.00770761, 0.34308067, 0.64921165],\n",
       "       [0.8487807 , 0.13455355, 0.01666579],\n",
       "       [0.02475258, 0.42703024, 0.5482172 ],\n",
       "       [0.01191353, 0.38320428, 0.6048822 ]], dtype=float32)"
      ]
     },
     "execution_count": 21,
     "metadata": {},
     "output_type": "execute_result"
    }
   ],
   "source": [
    "test_predictions = model.predict(X_test)\n",
    "test_predictions"
   ]
  },
  {
   "cell_type": "code",
   "execution_count": 22,
   "metadata": {},
   "outputs": [
    {
     "data": {
      "text/plain": [
       "2"
      ]
     },
     "execution_count": 22,
     "metadata": {},
     "output_type": "execute_result"
    }
   ],
   "source": [
    "np.argmax(test_predictions[3])"
   ]
  },
  {
   "cell_type": "code",
   "execution_count": 23,
   "metadata": {},
   "outputs": [],
   "source": [
    "y_pred = []\n",
    "for i in range(45):\n",
    "    y_pred.append(np.argmax(test_predictions[i]))"
   ]
  },
  {
   "cell_type": "code",
   "execution_count": 24,
   "metadata": {},
   "outputs": [],
   "source": [
    "y_pred = np.array(y_pred)\n",
    "y_test = np.array(y_test, dtype = int)"
   ]
  },
  {
   "cell_type": "code",
   "execution_count": 25,
   "metadata": {},
   "outputs": [],
   "source": [
    "from sklearn.metrics import confusion_matrix"
   ]
  },
  {
   "cell_type": "code",
   "execution_count": 26,
   "metadata": {},
   "outputs": [
    {
     "data": {
      "text/plain": [
       "array([[13,  0,  0],\n",
       "       [ 0, 11,  2],\n",
       "       [ 0,  0, 19]], dtype=int64)"
      ]
     },
     "execution_count": 26,
     "metadata": {},
     "output_type": "execute_result"
    }
   ],
   "source": [
    "confusion_matrix(y_test, y_pred)"
   ]
  }
 ],
 "metadata": {
  "kernelspec": {
   "display_name": "Python 3",
   "language": "python",
   "name": "python3"
  },
  "language_info": {
   "codemirror_mode": {
    "name": "ipython",
    "version": 3
   },
   "file_extension": ".py",
   "mimetype": "text/x-python",
   "name": "python",
   "nbconvert_exporter": "python",
   "pygments_lexer": "ipython3",
   "version": "3.6.8"
  }
 },
 "nbformat": 4,
 "nbformat_minor": 2
}
